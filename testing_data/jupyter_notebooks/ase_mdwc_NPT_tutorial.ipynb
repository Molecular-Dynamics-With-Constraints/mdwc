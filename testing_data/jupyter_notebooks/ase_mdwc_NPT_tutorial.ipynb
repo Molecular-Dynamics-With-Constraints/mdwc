{
 "cells": [
  {
   "cell_type": "code",
   "execution_count": 1,
   "metadata": {
    "collapsed": false
   },
   "outputs": [],
   "source": [
    "import numpy as np\n",
    "#import mdwc md_suit \n",
    "import mdwc.MD_suit.MD_suit as md_ft\n",
    "#import mdwc md parameters reader\n",
    "import mdwc.software_tools.abinit_controller as ac\n",
    "#import ase calculators for energies and forces\n",
    "import ase\n",
    "from ase.calculators.emt import EMT\n",
    "from ase.lattice.cubic import FaceCenteredCubic\n",
    "from ase.calculators.lj import LennardJones\n"
   ]
  },
  {
   "cell_type": "code",
   "execution_count": 2,
   "metadata": {
    "collapsed": true
   },
   "outputs": [],
   "source": [
    "#start the sigma from stress from ase\n",
    "def get_sigma(stress):\n",
    "#stress= atoms.get_stress()# pressumable in eV/A^3\n",
    "    sigma= np.array([[stress[0],stress[5],stress[4]], [stress[5], stress[1],stress[3]],\\\n",
    "                     [stress[4],stress[3],stress[2]]])\n",
    "    return sigma"
   ]
  },
  {
   "cell_type": "code",
   "execution_count": 3,
   "metadata": {
    "collapsed": true
   },
   "outputs": [],
   "source": [
    "#starting ase potential\n",
    "#3.446 angstrom\n",
    "#8.5 angstrom\n",
    "# 0.010768 eV\n",
    "LJ= LennardJones(epsilon= 0.010768, sigma= 3.446, rc= 8.5)\n",
    "\n",
    "#start structure from ase\n",
    "atoms = FaceCenteredCubic(size=(3,3,3), symbol=\"Ar\", pbc=True)\n",
    "atoms.set_calculator(LJ)"
   ]
  },
  {
   "cell_type": "code",
   "execution_count": 4,
   "metadata": {
    "collapsed": true
   },
   "outputs": [],
   "source": [
    "# import parameters for the md, from the jn_test.md file \n",
    "Qmass, bmass, P_ext, dt, correc_steps, md_steps, abinit_steps= ac.get_md_parameters('jn_test.md')\n",
    "\n",
    "numb_bond_cons, bool_bond_cons, numb_angl_cons, bool_angl_cons, \\\n",
    "numb_cell_para_cons, bool_cell_para_cons, numb_cell_angl_cons, bool_cell_angl_cons,\\\n",
    "volu_cons , bool_volu, numb_atom_fix_cons, bool_atom_fix_cons, bond_const, angl_const, cell_para_const,\\\n",
    "cell_angl_const, atom_fix_const, bond_valu, angl_valu, cell_para_valu,\\\n",
    "cell_angl_valu, volu_valu, atom_fix_valu, atom_fix_cord= ac.get_md_constrains('jn_test.md')\n",
    "\n",
    "md_total_steps= md_steps*abinit_steps\n",
    "\n",
    "temp_arra= ac.temp_data_reader('jn_test.md', md_total_steps)\n",
    "\n",
    "#paremeters to start the thermostat degree of freedom (don't touch)\n",
    "s_t=1.0 #thermostat degree of freedom\n",
    "s_t_dot= 0.0#time derivative of thermostat degree of freedom\n",
    "\n"
   ]
  },
  {
   "cell_type": "code",
   "execution_count": 5,
   "metadata": {
    "collapsed": false
   },
   "outputs": [],
   "source": [
    "#this part is equivalent to ac.get_nat_mass_latvec_in_strten_in\n",
    "#in the mdwc_ script\n",
    "mass=   atoms.get_masses()#amu\n",
    "h_t= atoms.cell#lattice vectors\n",
    "nat= len(mass) #number of atoms in the system\n",
    "strten_in= atoms.get_stress()"
   ]
  },
  {
   "cell_type": "code",
   "execution_count": 6,
   "metadata": {
    "collapsed": false
   },
   "outputs": [],
   "source": [
    "#this part is equivalent to ac.get_xred_fcart\n",
    "#in the mdwc_ script\n",
    "r_t= atoms.get_positions().T\n",
    "x_t= np.dot(np.linalg.inv(h_t),r_t) # reduced coordinates\n",
    "f_t= atoms.get_forces().T"
   ]
  },
  {
   "cell_type": "code",
   "execution_count": 7,
   "metadata": {
    "collapsed": false
   },
   "outputs": [],
   "source": [
    "#starting velocities\n",
    "temp= temp_arra[0]\n",
    "v_t= md_ft.npt_md_suit.init_vel_atoms(mass, temp, len(mass)) #atoms velociites\n",
    "h_t_dot= md_ft.npt_md_suit.init_vel_lattice(bmass, temp, h_t)\n",
    "x_t_dot= md_ft.npt_md_suit.get_x_dot(h_t, v_t, nat)"
   ]
  },
  {
   "cell_type": "code",
   "execution_count": 8,
   "metadata": {
    "collapsed": false
   },
   "outputs": [
    {
     "name": "stdout",
     "output_type": "stream",
     "text": [
      "0\n",
      "1\n",
      "2\n",
      "3\n",
      "4\n",
      "5\n",
      "6\n",
      "7\n",
      "8\n",
      "9\n"
     ]
    }
   ],
   "source": [
    "#start of the molecular dynamics\n",
    "for i_abinit_step in range(abinit_steps):\n",
    "#abinit_steps is the number of steps in which the forces and energy are\n",
    "#going to be calculated.\n",
    "\n",
    "    temp= temp_arra[i_abinit_step*md_steps]\n",
    "    \n",
    "    s_out, s_out_dot, pressure_out,\\\n",
    "    volu_out,bond_constrain_out,\\\n",
    "    cos_constrain_out, h_out,h_dot_out,\\\n",
    "    x_out, x_dot_out, v_out= md_ft.npt_md_suit.md_npt_constrains(h_t,x_t, x_t_dot, f_t, strten_in,\\\n",
    "                                                                            v_t,h_t_dot, bond_valu, angl_valu, \\\n",
    "                                                                            cell_para_valu,cell_angl_valu, volu_valu,\\\n",
    "                                                                            atom_fix_valu,atom_fix_cord, P_ext,mass, \\\n",
    "                                                                            Qmass, bmass, dt, temp, s_t, s_t_dot, \\\n",
    "                                                                            bond_const,angl_const, cell_para_const, \\\n",
    "                                                                            cell_angl_const, atom_fix_const,correc_steps, \\\n",
    "                                                                            md_steps, bool_bond_cons,bool_angl_cons, \\\n",
    "                                                                            bool_cell_para_cons,bool_cell_angl_cons, \\\n",
    "                                                                            bool_volu,bool_atom_fix_cons,volu_cons, \\\n",
    "                                                                            nat, numb_cell_angl_cons,numb_cell_para_cons, \\\n",
    "                                                                            numb_angl_cons, numb_bond_cons,numb_atom_fix_cons)    \n",
    "    #set new step\n",
    "    x_t= x_out\n",
    "    x_t_dot= x_dot_out\n",
    "    v_t= v_out\n",
    "    h_t= h_out\n",
    "    h_t_dot= h_dot_out\n",
    "    s_t= s_out\n",
    "    s_t_dot=s_out_dot\n",
    "    \n",
    "    #update the information for ase energy and forces calculations\n",
    "    atoms.set_cell(h_t)\n",
    "    r_t= np.dot(h_t,x_t)\n",
    "    atoms.set_positions(r_t.T)\n",
    "    strten_in= atoms.get_stress()\n",
    "    f_t= atoms.get_forces().T"
   ]
  },
  {
   "cell_type": "code",
   "execution_count": 24,
   "metadata": {
    "collapsed": false
   },
   "outputs": [
    {
     "name": "stdout",
     "output_type": "stream",
     "text": [
      "1.7763568394002505e-15 0.0\n"
     ]
    }
   ],
   "source": [
    "r_tx= np.dot(h_t,x_t)\n",
    "print np.max(np.subtract(r_tx, r_t)), np.min(np.subtract(r_tx, r_t))"
   ]
  },
  {
   "cell_type": "code",
   "execution_count": 28,
   "metadata": {
    "collapsed": false
   },
   "outputs": [
    {
     "name": "stdout",
     "output_type": "stream",
     "text": [
      "(3, 108)\n",
      "(108, 3)\n"
     ]
    }
   ],
   "source": [
    "print r_tx.shape\n",
    "xxx= atoms.get_positions()\n",
    "print xxx.shape"
   ]
  },
  {
   "cell_type": "code",
   "execution_count": null,
   "metadata": {
    "collapsed": true
   },
   "outputs": [],
   "source": []
  },
  {
   "cell_type": "code",
   "execution_count": 25,
   "metadata": {
    "collapsed": false
   },
   "outputs": [
    {
     "name": "stdout",
     "output_type": "stream",
     "text": [
      "[0. 0. 0.]\n",
      "[0. 0. 0.]\n",
      "***************\n",
      "[2.63 2.63 0.  ]\n",
      "[2.63 2.63 0.  ]\n",
      "***************\n",
      "[2.63 0.   2.63]\n",
      "[2.63 0.   2.63]\n",
      "***************\n",
      "[0.   2.63 2.63]\n",
      "[0.   2.63 2.63]\n",
      "***************\n",
      "[5.26 0.   0.  ]\n",
      "[5.26 0.   0.  ]\n",
      "***************\n",
      "[7.89 2.63 0.  ]\n",
      "[7.89 2.63 0.  ]\n",
      "***************\n",
      "[7.89 0.   2.63]\n",
      "[7.89 0.   2.63]\n",
      "***************\n",
      "[5.26 2.63 2.63]\n",
      "[5.26 2.63 2.63]\n",
      "***************\n",
      "[10.52  0.    0.  ]\n",
      "[10.52  0.    0.  ]\n",
      "***************\n",
      "[13.15  2.63  0.  ]\n",
      "[13.15  2.63  0.  ]\n",
      "***************\n"
     ]
    }
   ],
   "source": [
    "for i in range(10):\n",
    "    print r_tx[:,i]\n",
    "    print r_t[:,i]\n",
    "    print '***************'"
   ]
  },
  {
   "cell_type": "code",
   "execution_count": null,
   "metadata": {
    "collapsed": true
   },
   "outputs": [],
   "source": []
  },
  {
   "cell_type": "code",
   "execution_count": null,
   "metadata": {
    "collapsed": true
   },
   "outputs": [],
   "source": []
  },
  {
   "cell_type": "code",
   "execution_count": null,
   "metadata": {
    "collapsed": true
   },
   "outputs": [],
   "source": []
  },
  {
   "cell_type": "code",
   "execution_count": null,
   "metadata": {
    "collapsed": true
   },
   "outputs": [],
   "source": []
  },
  {
   "cell_type": "code",
   "execution_count": null,
   "metadata": {
    "collapsed": true
   },
   "outputs": [],
   "source": []
  },
  {
   "cell_type": "code",
   "execution_count": 4,
   "metadata": {
    "collapsed": false
   },
   "outputs": [],
   "source": [
    "#start structure from ase\n",
    "atoms = FaceCenteredCubic(size=(3,3,3), symbol=\"Ar\", pbc=True)\n",
    "MaxwellBoltzmannDistribution(atoms, 100. * units.kB)\n",
    "#view(atoms)\n",
    "atoms.set_calculator(LJ)\n",
    "Force= atoms.get_forces()\n",
    "#print Force"
   ]
  },
  {
   "cell_type": "code",
   "execution_count": 3,
   "metadata": {
    "collapsed": false
   },
   "outputs": [
    {
     "name": "stdout",
     "output_type": "stream",
     "text": [
      "{'epsilon': 0.010768, 'sigma': 3.446, 'rc': 8.5}\n"
     ]
    }
   ],
   "source": [
    "print LJ.parameters"
   ]
  },
  {
   "cell_type": "code",
   "execution_count": 5,
   "metadata": {
    "collapsed": false
   },
   "outputs": [],
   "source": [
    "#atoms.set_calculator(EMT())\n",
    "#Force= atoms.get_forces()\n",
    "#print Force"
   ]
  },
  {
   "cell_type": "code",
   "execution_count": 6,
   "metadata": {
    "collapsed": false
   },
   "outputs": [
    {
     "name": "stdout",
     "output_type": "stream",
     "text": [
      "[2.63 2.63 0.  ]\n",
      "[2.63 0.   2.63]\n",
      "[0.   2.63 2.63]\n"
     ]
    }
   ],
   "source": [
    "R0= atoms.get_positions()\n",
    "print R0[1,:]\n",
    "print R0[2,:]\n",
    "print R0[3,:]"
   ]
  },
  {
   "cell_type": "code",
   "execution_count": 7,
   "metadata": {
    "collapsed": false
   },
   "outputs": [
    {
     "name": "stdout",
     "output_type": "stream",
     "text": [
      "[2.63 2.63 0.  ]\n",
      "[2.63 0.   2.63]\n",
      "[0.   2.63 2.63]\n"
     ]
    }
   ],
   "source": [
    "R1= atoms.get_positions()\n",
    "print R1[1,:]\n",
    "print R1[2,:]\n",
    "print R1[3,:]"
   ]
  },
  {
   "cell_type": "code",
   "execution_count": 8,
   "metadata": {
    "collapsed": false
   },
   "outputs": [
    {
     "name": "stdout",
     "output_type": "stream",
     "text": [
      "temperature_before_normalization    100.93075998266384\n",
      "total_p_no_normalized     [[ -3.20690445 -10.97582667  -1.87704886]]\n",
      "total_p_normalized     [ 1.77635684e-15 -5.21804822e-15  3.44169138e-15]\n",
      "temperature_after_normalization    99.81604745814343\n"
     ]
    }
   ],
   "source": [
    "m=   atoms.get_masses() #amu\n",
    "m= np.reshape(m, (len(m),1))\n",
    "v_t= atoms.get_velocities()\n",
    "p= np.multiply(m,v_t)\n",
    "p_total= np.sum(np.multiply(m,v_t), axis=0, keepdims=True)\n",
    "print 'temperature_before_normalization   ', atoms.get_temperature()\n",
    "print 'total_p_no_normalized    ', p_total\n",
    "p= p - np.divide(p_total,len(m))\n",
    "print 'total_p_normalized    ',np.sum(p, axis=0)\n",
    "v_t= np.divide(p,m)\n",
    "#print v_t.shape\n",
    "atoms.set_velocities(v_t)\n",
    "print 'temperature_after_normalization   ', atoms.get_temperature()"
   ]
  },
  {
   "cell_type": "code",
   "execution_count": 9,
   "metadata": {
    "collapsed": false
   },
   "outputs": [
    {
     "name": "stdout",
     "output_type": "stream",
     "text": [
      "[[15.78  0.    0.  ]\n",
      " [ 0.   15.78  0.  ]\n",
      " [ 0.    0.   15.78]]\n"
     ]
    }
   ],
   "source": [
    "h= atoms.cell\n",
    "print h\n",
    "r_t= atoms.get_positions()\n",
    "v_t= atoms.get_velocities()\n",
    "m=   atoms.get_masses() #amu\n",
    "m= np.reshape(m, (len(m),1))\n",
    "temp= atoms.get_temperature()\n",
    "dt=0.01#1e-3 #1.0*units.fs\n",
    "f= 3.0*len(m) #degres of freedom\n",
    "s_t=1.0\n",
    "s_t_dot= 0.0\n",
    "Q= 0.1\n",
    "F_t= atoms.get_forces()\n",
    "K_ev_k= 8.6173303e-5"
   ]
  },
  {
   "cell_type": "code",
   "execution_count": 10,
   "metadata": {
    "collapsed": true
   },
   "outputs": [],
   "source": [
    "temp_arra= []\n",
    "r_arra=[]\n",
    "s_t_arra= []\n",
    "s_t_dot_arra= []\n",
    "kine_s=[]\n",
    "kine_r_dot= []"
   ]
  },
  {
   "cell_type": "code",
   "execution_count": 11,
   "metadata": {
    "collapsed": false
   },
   "outputs": [],
   "source": [
    "temp_termostat_arra= 100.0*np.ones(500, float)#np.concatenate((300.0*np.ones(500, float),700.0*np.ones(500, float),1100.0*np.ones(500, float)))\n"
   ]
  },
  {
   "cell_type": "code",
   "execution_count": 12,
   "metadata": {
    "collapsed": false
   },
   "outputs": [],
   "source": [
    "temp_termostat_arra= np.concatenate((100.0*np.ones(1000, float),200.0*np.ones(1000, float),300.0*np.ones(1000, float)))\n"
   ]
  },
  {
   "cell_type": "code",
   "execution_count": 12,
   "metadata": {
    "collapsed": false
   },
   "outputs": [],
   "source": [
    "#np.sum(np.multiply(np.squeeze(m),np.dot(v_t,v_t.T)))/s_t +\n",
    "for i, temp in enumerate(temp_termostat_arra):\n",
    "    ar_t= np.divide(F_t,m)/(s_t**2.0) - 2.0*(s_t_dot/s_t**2.0)*v_t\n",
    "    #asv= np.sum(np.multiply(m,np.multiply(v_t,v_t)))\n",
    "    as_t= (np.sum(np.multiply(m,np.multiply(v_t,v_t)))/s_t - (f+1)*K_ev_k*temp/s_t)/Q\n",
    "    \n",
    "    r_t_dt= r_t + dt*(v_t/s_t) + 0.5*dt*dt*ar_t\n",
    "    s_t_dt= s_t + dt*s_t_dot + 0.5*dt*dt*as_t\n",
    "    atoms.set_positions(r_t_dt)\n",
    "    F_t_dt= atoms.get_forces()\n",
    "    #prediction correction \n",
    "    #prediction, calculate input for correction data\n",
    "    v_c= s_t_dt*v_t/s_t + dt*s_t_dt*ar_t\n",
    "    s_c_dot= s_t_dot + dt*as_t\n",
    "    correc_steps= 8# number of correction steps\n",
    "    #correction steps\n",
    "    for _ in range(correc_steps):\n",
    "        ar_c= np.divide(F_t_dt,m)/(s_t_dt**2.0) - 2.0*(s_c_dot/s_t_dt**2.0)*v_c\n",
    "        as_c= (np.sum(np.multiply(m,np.multiply(v_c,v_c)))/s_t_dt - (f+1)*K_ev_k*temp/s_t_dt)/Q    \n",
    "        v_c= v_t + 0.5*dt*(ar_c + ar_t)\n",
    "        s_c_dot= s_t_dot + 0.5*dt*(as_c + as_t)\n",
    "        \n",
    "    r_t= r_t_dt\n",
    "    s_t= s_t_dt\n",
    "    v_t= v_c\n",
    "    s_t_dot= s_c_dot\n",
    "    F_t= F_t_dt\n",
    "    atoms.set_positions(r_t)\n",
    "    atoms.set_velocities(v_t)\n",
    "\n",
    "    kine_s.append(np.sum(np.multiply(m,np.multiply(v_t,v_t))))\n",
    "    #kine_r_dot.append(np.sum(np.multiply(m,np.multiply(r_dot,r_dot))))\n",
    "    temp_arra.append(atoms.get_temperature())\n",
    "    s_t_arra.append(s_t)\n",
    "    s_t_dot_arra.append(s_t_dot)"
   ]
  },
  {
   "cell_type": "code",
   "execution_count": 13,
   "metadata": {
    "collapsed": false
   },
   "outputs": [
    {
     "data": {
      "image/png": "[encoded data removed]",
      "text/plain": [
       "<Figure size 432x288 with 1 Axes>"
      ]
     },
     "metadata": {},
     "output_type": "display_data"
    }
   ],
   "source": [
    "x= range(len(temp_termostat_arra)) \n",
    "plt.plot(x,temp_arra)\n",
    "plt.show()"
   ]
  },
  {
   "cell_type": "code",
   "execution_count": 15,
   "metadata": {
    "collapsed": false
   },
   "outputs": [
    {
     "data": {
      "image/png": "[encoded data removed]",
      "text/plain": [
       "<Figure size 432x288 with 1 Axes>"
      ]
     },
     "metadata": {},
     "output_type": "display_data"
    }
   ],
   "source": [
    "x= range(len(kine_s)) \n",
    "plt.plot(x,kine_s)\n",
    "plt.show()"
   ]
  },
  {
   "cell_type": "code",
   "execution_count": 14,
   "metadata": {
    "collapsed": false
   },
   "outputs": [
    {
     "name": "stdout",
     "output_type": "stream",
     "text": [
      "0     103.38893834838852       1.0000000043001214\n",
      "1     103.3889298564492       1.0000000172004777\n",
      "2     103.38891570322768       1.0000000387010453\n",
      "3     103.38889588874139       1.000000068801784\n",
      "4     103.38887041301541       1.0000001075026388\n",
      "5     103.38883927608245       1.0000001548035378\n",
      "6     103.38880247798294       1.000000210704394\n",
      "7     103.38876001876493       1.0000002752051038\n",
      "8     103.38871189848417       1.0000003483055484\n",
      "9     103.3886581172041       1.000000430005593\n",
      "10     103.3885986749958       1.0000005203050861\n",
      "11     103.38853357193798       1.0000006192038615\n",
      "12     103.38846280811711       1.0000007267017366\n",
      "13     103.3883863836272       1.0000008427985125\n",
      "14     103.38830429857012       1.0000009674939752\n",
      "15     103.38821655305517       1.000001100787894\n",
      "16     103.38812314719954       1.000001242680023\n",
      "17     103.38802408112792       1.0000013931701006\n",
      "18     103.38791935497274       1.0000015522578483\n",
      "19     103.38780896887411       1.0000017199429727\n",
      "20     103.3876929229798       1.0000018962251642\n",
      "21     103.38757121744517       1.000002081104097\n",
      "22     103.38744385243335       1.00000227457943\n",
      "23     103.38731082811513       1.0000024766508055\n",
      "24     103.38717214466887       1.0000026873178507\n",
      "25     103.38702780228066       1.0000029065801765\n",
      "26     103.38687780114424       1.000003134437378\n",
      "27     103.38672214146104       1.0000033708890346\n",
      "28     103.38656082344009       1.0000036159347094\n",
      "29     103.3863938472982       1.0000038695739502\n",
      "30     103.38622121325972       1.0000041318062882\n",
      "31     103.38604292155668       1.0000044026312396\n",
      "32     103.38585897242886       1.000004682048304\n",
      "33     103.38566936612358       1.0000049700569655\n",
      "34     103.38547410289591       1.000005266656692\n",
      "35     103.38527318300858       1.0000055718469363\n",
      "36     103.3850666067319       1.0000058856271345\n",
      "37     103.38485437434389       1.0000062079967071\n",
      "38     103.38463648613025       1.0000065389550588\n",
      "39     103.38441294238429       1.0000068785015783\n",
      "40     103.38418374340701       1.0000072266356388\n",
      "41     103.38394888950702       1.0000075833565973\n",
      "42     103.38370838100072       1.0000079486637952\n",
      "43     103.38346221821193       1.0000083225565577\n",
      "44     103.38321040147237       1.0000087050341941\n",
      "45     103.38295293112121       1.0000090960959982\n",
      "46     103.38268980750541       1.000009495741248\n",
      "47     103.38242103097953       1.0000099039692052\n",
      "48     103.38214660190577       1.0000103207791158\n",
      "49     103.38186652065403       1.0000107461702104\n",
      "50     103.38158078760178       1.0000111801417029\n",
      "51     103.38128940313418       1.000011622692792\n",
      "52     103.38099236764411       1.0000120738226606\n",
      "53     103.38068968153192       1.000012533530475\n",
      "54     103.38038134520579       1.0000130018153868\n",
      "55     103.38006735908144       1.0000134786765307\n",
      "56     103.37974772358227       1.0000139641130261\n",
      "57     103.37942243913929       1.0000144581239765\n",
      "58     103.37909150619119       1.0000149607084692\n",
      "59     103.37875492518427       1.000015471865576\n",
      "60     103.37841269657252       1.000015991594353\n",
      "61     103.37806482081749       1.00001651989384\n",
      "62     103.37771129838846       1.0000170567630615\n",
      "63     103.37735212976227       1.0000176022010256\n",
      "64     103.37698731542342       1.0000181562067252\n",
      "65     103.37661685586407       1.0000187187791365\n",
      "66     103.37624075158398       1.0000192899172209\n",
      "67     103.37585900309055       1.0000198696199232\n",
      "68     103.3754716108989       1.0000204578861724\n",
      "69     103.37507857553155       1.0000210547148822\n",
      "70     103.37467989751892       1.0000216601049499\n",
      "71     103.37427557739889       1.0000222740552573\n",
      "72     103.37386561571701       1.0000228965646707\n",
      "73     103.37345001302648       1.0000235276320395\n",
      "74     103.37302876988808       1.0000241672561985\n",
      "75     103.37260188687026       1.0000248154359657\n",
      "76     103.37216936454904       1.000025472170144\n",
      "77     103.37173120350813       1.0000261374575201\n",
      "78     103.3712874043388       1.0000268112968653\n",
      "79     103.3708379676399       1.0000274936869344\n",
      "80     103.37038289401808       1.000028184626467\n",
      "81     103.3699221840874       1.0000288841141864\n",
      "82     103.3694558384696       1.0000295921488007\n",
      "83     103.36898385779408       1.0000303087290014\n",
      "84     103.3685062426978       1.000031033853465\n",
      "85     103.36802299382536       1.0000317675208519\n",
      "86     103.36753411182897       1.0000325097298062\n",
      "87     103.36703959736842       1.000033260478957\n",
      "88     103.36653945111111       1.000034019766917\n",
      "89     103.36603367373208       1.0000347875922835\n",
      "90     103.36552226591391       1.0000355639536378\n",
      "91     103.36500522834687       1.0000363488495456\n",
      "92     103.36448256172875       1.0000371422785566\n",
      "93     103.36395426676495       1.0000379442392047\n",
      "94     103.36342034416852       1.000038754730008\n",
      "95     103.36288079466004       1.0000395737494694\n",
      "96     103.36233561896772       1.000040401296075\n",
      "97     103.36178481782738       1.000041237368296\n",
      "98     103.36122839198241       1.0000420819645874\n",
      "99     103.3606663421837       1.0000429350833886\n",
      "100     103.36009866918988       1.000043796723123\n",
      "101     103.35952537376713       1.0000446668821985\n",
      "102     103.35894645668911       1.0000455455590072\n",
      "103     103.35836191873717       1.000046432751925\n",
      "104     103.35777176070019       1.0000473284593123\n",
      "105     103.35717598337465       1.0000482326795144\n",
      "106     103.35657458756458       1.0000491454108598\n",
      "107     103.35596757408163       1.000050066651662\n",
      "108     103.35535494374498       1.0000509964002184\n",
      "109     103.35473669738141       1.0000519346548107\n",
      "110     103.35411283582526       1.0000528814137046\n",
      "111     103.3534833599184       1.0000538366751506\n",
      "112     103.35284827051035       1.0000548004373828\n",
      "113     103.35220756845814       1.0000557726986203\n",
      "114     103.35156125462635       1.0000567534570661\n",
      "115     103.35090932988713       1.0000577427109074\n",
      "116     103.35025179512024       1.0000587404583154\n",
      "117     103.34958865121291       1.0000597466974464\n",
      "118     103.34891989906001       1.0000607614264398\n",
      "119     103.34824553956388       1.0000617846434208\n",
      "120     103.3475655736345       1.0000628163464973\n",
      "121     103.34688000218928       1.0000638565337623\n",
      "122     103.34618882615337       1.0000649052032933\n",
      "123     103.34549204645924       1.0000659623531514\n",
      "124     103.34478966404701       1.0000670279813826\n",
      "125     103.3440816798644       1.000068102086017\n",
      "126     103.34336809486656       1.0000691846650684\n",
      "127     103.34264891001624       1.000070275716536\n",
      "128     103.3419241262837       1.0000713752384025\n",
      "129     103.34119374464672       1.000072483228635\n",
      "130     103.34045776609064       1.0000735996851853\n",
      "131     103.33971619160836       1.000074724605989\n",
      "132     103.3389690222002       1.0000758579889664\n",
      "133     103.33821625887411       1.0000769998320218\n",
      "134     103.3374579026455       1.0000781501330442\n",
      "135     103.3366939545373       1.0000793088899067\n",
      "136     103.33592441557998       1.0000804761004665\n",
      "137     103.33514928681156       1.0000816517625652\n",
      "138     103.33436856927749       1.0000828358740292\n",
      "139     103.33358226403078       1.0000840284326689\n",
      "140     103.33279037213195       1.000085229436279\n",
      "141     103.331992894649       1.0000864388826385\n",
      "142     103.33118983265749       1.0000876567695107\n",
      "143     103.33038118724038       1.0000888830946437\n",
      "144     103.32956695948822       1.0000901178557693\n",
      "145     103.32874715049898       1.0000913610506041\n",
      "146     103.32792176137824       1.0000926126768488\n",
      "147     103.32709079323895       1.0000938727321886\n",
      "148     103.32625424720163       1.000095141214293\n",
      "149     103.32541212439422       1.000096418120816\n",
      "150     103.32456442595219       1.0000977034493959\n",
      "151     103.3237111530185       1.0000989971976548\n",
      "152     103.32285230674351       1.0001002993632002\n",
      "153     103.32198788828518       1.0001016099436233\n",
      "154     103.3211178988089       1.0001029289365\n",
      "155     103.32024233948742       1.0001042563393903\n",
      "156     103.31936121150113       1.0001055921498387\n",
      "157     103.31847451603774       1.000106936365374\n",
      "158     103.31758225429253       1.00010828898351\n",
      "159     103.31668442746822       1.000109650001744\n",
      "160     103.31578103677491       1.000111019417558\n",
      "161     103.31487208343026       1.0001123972284185\n",
      "162     103.31395756865933       1.0001137834317766\n",
      "163     103.31303749369465       1.0001151780250677\n",
      "164     103.31211185977615       1.0001165810057113\n",
      "165     103.3111806681513       1.0001179923711119\n",
      "166     103.3102439200749       1.0001194121186576\n",
      "167     103.30930161680926       1.0001208402457218\n",
      "168     103.30835375962411       1.0001222767496616\n",
      "169     103.30740034979662       1.0001237216278192\n",
      "170     103.30644138861143       1.0001251748775206\n",
      "171     103.30547687736048       1.0001266364960768\n",
      "172     103.3045068173433       1.000128106480783\n",
      "173     103.30353120986673       1.0001295848289184\n",
      "174     103.30255005624507       1.0001310715377474\n",
      "175     103.30156335780002       1.0001325666045184\n",
      "176     103.30057111586073       1.0001340700264647\n",
      "177     103.2995733317637       1.0001355818008033\n",
      "178     103.29857000685293       1.0001371019247365\n",
      "179     103.2975611424797       1.0001386303954505\n",
      "180     103.29654674000284       1.0001401672101162\n",
      "181     103.29552680078845       1.000141712365889\n",
      "182     103.29450132621014       1.0001432658599085\n",
      "183     103.2934703176488       1.0001448276892995\n",
      "184     103.29243377649279       1.0001463978511704\n",
      "185     103.29139170413784       1.0001479763426149\n",
      "186     103.29034410198703       1.0001495631607102\n",
      "187     103.28929097145091       1.0001511583025189\n",
      "188     103.28823231394729       1.0001527617650878\n",
      "189     103.28716813090148       1.0001543735454486\n",
      "190     103.286098423746       1.0001559936406166\n",
      "191     103.28502319392092       1.0001576220475923\n",
      "192     103.28394244287358       1.0001592587633608\n",
      "193     103.28285617205869       1.0001609037848913\n",
      "194     103.28176438293829       1.0001625571091377\n",
      "195     103.28066707698186       1.0001642187330386\n",
      "196     103.27956425566619       1.0001658886535172\n",
      "197     103.27845592047537       1.0001675668674808\n",
      "198     103.27734207290096       1.0001692533718216\n",
      "199     103.27622271444173       1.0001709481634165\n",
      "200     103.27509784660384       1.0001726512391262\n",
      "201     103.27396747090087       1.0001743625957968\n",
      "202     103.27283158885356       1.0001760822302588\n",
      "203     103.27169020199021       1.0001778101393268\n",
      "204     103.27054331184621       1.0001795463198007\n",
      "205     103.26939091996444       1.000181290768464\n",
      "206     103.26823302789504       1.0001830434820858\n",
      "207     103.26706963719542       1.0001848044574193\n",
      "208     103.26590074943043       1.0001865736912023\n",
      "209     103.26472636617211       1.0001883511801573\n",
      "210     103.26354648899989       1.0001901369209913\n",
      "211     103.26236111950044       1.000191930910396\n",
      "212     103.26117025926779       1.0001937331450474\n",
      "213     103.25997390990321       1.0001955436216066\n",
      "214     103.25877207301528       1.0001973623367193\n",
      "215     103.25756475021994       1.0001991892870155\n",
      "216     103.2563519431403       1.00020102446911\n",
      "217     103.25513365340683       1.000202867879602\n",
      "218     103.2539098826573       1.0002047195150756\n",
      "219     103.25268063253662       1.0002065793720998\n",
      "220     103.25144590469715       1.0002084474472275\n",
      "221     103.2502057007984       1.000210323736997\n",
      "222     103.24896002250722       1.0002122082379308\n",
      "223     103.24770887149768       1.0002141009465362\n",
      "224     103.24645224945104       1.0002160018593051\n",
      "225     103.24519015805598       1.0002179109727145\n",
      "226     103.24392259900831       1.0002198282832255\n",
      "227     103.24264957401108       1.0002217537872842\n",
      "228     103.2413710847747       1.0002236874813213\n",
      "229     103.24008713301664       1.000225629361752\n",
      "230     103.23879772046178       1.0002275794249766\n",
      "231     103.23750284884211       1.00022953766738\n",
      "232     103.2362025198969       1.0002315040853316\n",
      "233     103.2348967353727       1.0002334786751854\n",
      "234     103.23358549702317       1.0002354614332807\n",
      "235     103.23226880660927       1.000237452355941\n",
      "236     103.23094666589911       1.0002394514394746\n",
      "237     103.22961907666806       1.0002414586801749\n",
      "238     103.22828604069866       1.0002434740743198\n",
      "239     103.22694755978073       1.0002454976181716\n",
      "240     103.22560363571118       1.000247529307978\n",
      "241     103.22425427029418       1.0002495691399709\n",
      "242     103.22289946534103       1.000251617110367\n",
      "243     103.22153922267033       1.0002536732153684\n",
      "244     103.22017354410778       1.0002557374511614\n",
      "245     103.21880243148624       1.000257809813917\n",
      "246     103.21742588664581       1.0002598902997915\n",
      "247     103.21604391143369       1.0002619789049254\n",
      "248     103.21465650770432       1.0002640756254446\n",
      "249     103.21326367731928       1.000266180457459\n",
      "250     103.21186542214724       1.0002682933970641\n",
      "251     103.21046174406413       1.0002704144403398\n",
      "252     103.20905264495298       1.0002725435833508\n",
      "253     103.20763812670396       1.0002746808221465\n",
      "254     103.20621819121438       1.0002768261527617\n",
      "255     103.2047928403887       1.0002789795712157\n",
      "256     103.20336207613853       1.0002811410735124\n",
      "257     103.20192590038265       1.0002833106556406\n",
      "258     103.2004843150468       1.0002854883135741\n",
      "259     103.19903732206403       1.0002876740432718\n",
      "260     103.19758492337438       1.000289867840677\n",
      "261     103.19612712092511       1.0002920697017184\n",
      "262     103.19466391667052       1.0002942796223087\n",
      "263     103.19319531257202       1.0002964975983464\n",
      "264     103.19172131059813       1.0002987236257144\n",
      "265     103.19024191272446       1.0003009577002804\n",
      "266     103.18875712093377       1.0003031998178975\n",
      "267     103.18726693721582       1.0003054499744033\n",
      "268     103.1857713635675       1.0003077081656202\n",
      "269     103.1842704019928       1.0003099743873556\n",
      "270     103.18276405450273       1.0003122486354021\n",
      "271     103.1812523231154       1.000314530905537\n",
      "272     103.17973520985602       1.0003168211935227\n",
      "273     103.17821271675682       1.000319119495106\n",
      "274     103.17668484585708       1.0003214258060193\n",
      "275     103.17515159920319       1.0003237401219796\n",
      "276     103.17361297884851       1.0003260624386887\n",
      "277     103.17206898685353       1.0003283927518338\n",
      "278     103.17051962528573       1.0003307310570868\n",
      "279     103.16896489621963       1.0003330773501047\n",
      "280     103.16740480173678       1.0003354316265294\n",
      "281     103.1658393439258       1.0003377938819875\n",
      "282     103.16426852488226       1.000340164112091\n",
      "283     103.16269234670881       1.0003425423124368\n",
      "284     103.16111081151506       1.0003449284786068\n",
      "285     103.15952392141773       1.0003473226061679\n",
      "286     103.15793167854042       1.0003497246906716\n",
      "287     103.15633408501378       1.000352134727655\n",
      "288     103.1547311429755       1.00035455271264\n",
      "289     103.15312285457024       1.0003569786411337\n",
      "290     103.15150922194955       1.000359412508628\n",
      "291     103.14989024727211       1.0003618543105997\n",
      "292     103.14826593270351       1.000364304042511\n",
      "293     103.1466362804163       1.0003667616998089\n",
      "294     103.14500129258997       1.0003692272779259\n",
      "295     103.14336097141111       1.000371700772279\n",
      "296     103.1417153190731       1.0003741821782706\n",
      "297     103.14006433777637       1.0003766714912878\n",
      "298     103.13840802972827       1.0003791687067036\n",
      "299     103.13674639714311       1.0003816738198754\n",
      "300     103.13507944224219       1.0003841868261458\n",
      "301     103.13340716725361       1.0003867077208428\n",
      "302     103.13172957441249       1.0003892364992792\n",
      "303     103.1300466659609       1.000391773156753\n",
      "304     103.12835844414779       1.0003943176885475\n",
      "305     103.12666491122903       1.0003968700899306\n",
      "306     103.12496606946739       1.000399430356156\n",
      "307     103.1232619211326       1.0004019984824626\n",
      "308     103.12155246850122       1.0004045744640733\n",
      "309     103.11983771385674       1.0004071582961978\n",
      "310     103.11811765948958       1.0004097499740296\n",
      "311     103.11639230769701       1.0004123494927482\n",
      "312     103.11466166078313       1.000414956847518\n",
      "313     103.11292572105903       1.0004175720334885\n",
      "314     103.11118449084258       1.0004201950457945\n",
      "315     103.10943797245855       1.000422825879556\n",
      "316     103.10768616823863       1.0004254645298782\n",
      "317     103.10592908052124       1.0004281109918514\n",
      "318     103.10416671165174       1.0004307652605513\n",
      "319     103.10239906398239       1.000433427331039\n",
      "320     103.10062613987218       1.0004360971983601\n",
      "321     103.09884794168697       1.0004387748575463\n",
      "322     103.09706447179948       1.0004414603036138\n",
      "323     103.09527573258927       1.0004441535315647\n",
      "324     103.09348172644268       1.000446854536386\n",
      "325     103.09168245575286       1.0004495633130501\n",
      "326     103.08987792291984       1.0004522798565147\n",
      "327     103.0880681303504       1.0004550041617226\n",
      "328     103.08625308045816       1.0004577362236018\n",
      "329     103.08443277566349       1.0004604760370661\n",
      "330     103.08260721839359       1.0004632235970141\n",
      "331     103.08077641108245       1.00046597889833\n",
      "332     103.07894035617082       1.0004687419358833\n",
      "333     103.07709905610622       1.0004715127045287\n",
      "334     103.07525251334297       1.000474291199106\n",
      "335     103.07340073034216       1.000477077414441\n",
      "336     103.07154370957159       1.000479871345344\n",
      "337     103.06968145350592       1.0004826729866116\n",
      "338     103.0678139646264       1.0004854823330251\n",
      "339     103.06594124542119       1.0004882993793514\n",
      "340     103.06406329838507       1.0004911241203425\n",
      "341     103.06218012601965       1.000493956550736\n",
      "342     103.06029173083319       1.000496796665255\n",
      "343     103.05839811534072       1.0004996444586078\n",
      "344     103.056499282064       1.0005024999254883\n",
      "345     103.05459523353142       1.0005053630605758\n",
      "346     103.0526859722782       1.0005082338585345\n",
      "347     103.05077150084615       1.0005111123140147\n",
      "348     103.0488518217839       1.000513998421652\n",
      "349     103.04692693764667       1.0005168921760672\n",
      "350     103.04499685099636       1.0005197935718666\n",
      "351     103.04306156440164       1.0005227026036418\n",
      "352     103.04112108043782       1.0005256192659704\n",
      "353     103.0391754016868       1.000528543553415\n",
      "354     103.03722453073735       1.0005314754605241\n",
      "355     103.03526847018459       1.0005344149818312\n",
      "356     103.03330722263058       1.0005373621118552\n",
      "357     103.03134079068391       1.000540316845101\n",
      "358     103.02936917695978       1.000543279176059\n",
      "359     103.02739238408012       1.0005462490992045\n",
      "360     103.02541041467339       1.0005492266089993\n",
      "361     103.02342327137481       1.0005522116998897\n",
      "362     103.02143095682604       1.0005552043663084\n",
      "363     103.01943347367553       1.0005582046026729\n",
      "364     103.01743082457827       1.0005612124033867\n",
      "365     103.01542301219581       1.000564227762839\n",
      "366     103.01341003919634       1.000567250675404\n",
      "367     103.01139190825471       1.000570281135442\n",
      "368     103.00936862205221       1.0005733191372987\n",
      "369     103.00734018327687       1.0005763646753054\n",
      "370     103.00530659462316       1.000579417743779\n",
      "371     103.00326785879224       1.0005824783370219\n",
      "372     103.0012239784917       1.0005855464493223\n",
      "373     102.99917495643588       1.000588622074954\n",
      "374     102.9971207953455       1.0005917052081763\n",
      "375     102.99506149794787       1.0005947958432342\n",
      "376     102.99299706697688       1.0005978939743585\n",
      "377     102.99092750517298       1.0006009995957652\n",
      "378     102.98885281528305       1.0006041127016565\n",
      "379     102.98677300006061       1.00060723328622\n",
      "380     102.98468806226566       1.0006103613436288\n",
      "381     102.98259800466462       1.0006134968680422\n",
      "382     102.98050283003057       1.000616639853605\n",
      "383     102.97840254114301       1.0006197902944471\n",
      "384     102.97629714078793       1.0006229481846853\n",
      "385     102.97418663175785       1.0006261135184211\n",
      "386     102.97207101685173       1.0006292862897421\n",
      "387     102.96995029887508       1.0006324664927215\n",
      "388     102.96782448063976       1.0006356541214183\n",
      "389     102.96569356496425       1.0006388491698774\n",
      "390     102.96355755467339       1.0006420516321295\n",
      "391     102.96141645259847       1.0006452615021908\n",
      "392     102.95927026157732       1.0006484787740635\n",
      "393     102.95711898445408       1.0006517034417353\n",
      "394     102.95496262407946       1.00065493549918\n",
      "395     102.95280118331054       1.0006581749403571\n",
      "396     102.95063466501081       1.0006614217592118\n",
      "397     102.94846307205022       1.0006646759496753\n",
      "398     102.9462864073051       1.0006679375056644\n",
      "399     102.9441046736582       1.0006712064210823\n",
      "400     102.94191787399869       1.000674482689817\n",
      "401     102.93972601122208       1.0006777663057436\n",
      "402     102.93752908823036       1.0006810572627218\n",
      "403     102.93532710793183       1.0006843555545981\n",
      "404     102.93312007324121       1.0006876611752045\n",
      "405     102.93090798707955       1.000690974118359\n",
      "406     102.9286908523743       1.0006942943778654\n",
      "407     102.92646867205929       1.0006976219475134\n",
      "408     102.92424144907463       1.000700956821079\n",
      "409     102.92200918636682       1.0007042989923232\n",
      "410     102.91977188688873       1.000707648454994\n",
      "411     102.91752955359951       1.0007110052028245\n",
      "412     102.91528218946469       1.0007143692295342\n",
      "413     102.9130297974561       1.0007177405288286\n",
      "414     102.91077238055188       1.0007211190943988\n",
      "415     102.90850994173647       1.000724504919922\n",
      "416     102.90624248400069       1.0007278979990617\n",
      "417     102.90397001034152       1.0007312983254668\n",
      "418     102.90169252376235       1.0007347058927727\n",
      "419     102.89941002727282       1.0007381206946007\n",
      "420     102.89712252388887       1.000741542724558\n",
      "421     102.89483001663264       1.0007449719762382\n",
      "422     102.89253250853268       1.00074840844322\n",
      "423     102.89023000262357       1.0007518521190693\n",
      "424     102.88792250194639       1.000755302997337\n",
      "425     102.88561000954834       1.000758761071561\n",
      "426     102.8832925284829       1.0007622263352645\n",
      "427     102.8809700618097       1.000765698781957\n",
      "428     102.87864261259475       1.0007691784051345\n",
      "429     102.87631018391019       1.0007726651982787\n",
      "430     102.87397277883431       1.0007761591548572\n",
      "431     102.87163040045182       1.0007796602683243\n",
      "432     102.8692830518534       1.00078316853212\n",
      "433     102.8669307361361       1.0007866839396706\n",
      "434     102.86457345640304       1.0007902064843883\n",
      "435     102.86221121576362       1.0007937361596717\n",
      "436     102.85984401733336       1.0007972729589054\n",
      "437     102.85747186423394       1.0008008168754605\n",
      "438     102.85509475959329       1.0008043679026937\n",
      "439     102.85271270654543       1.0008079260339482\n",
      "440     102.8503257082305       1.0008114912625534\n",
      "441     102.8479337677949       1.0008150635818251\n",
      "442     102.84553688839107       1.000818642985065\n",
      "443     102.84313507317763       1.000822229465561\n",
      "444     102.84072832531929       1.0008258230165876\n",
      "445     102.83831664798691       1.000829423631405\n",
      "446     102.83590004435749       1.00083303130326\n",
      "447     102.83347851761407       1.0008366460253857\n",
      "448     102.83105207094584       1.0008402677910013\n",
      "449     102.82862070754808       1.0008438965933122\n",
      "450     102.82618443062216       1.0008475324255104\n",
      "451     102.82374324337549       1.0008511752807738\n",
      "452     102.8212971490216       1.000854825152267\n",
      "453     102.81884615078006       1.0008584820331408\n",
      "454     102.81639025187651       1.0008621459165319\n",
      "455     102.81392945554269       1.0008658167955637\n",
      "456     102.81146376501633       1.000869494663346\n",
      "457     102.80899318354122       1.000873179512975\n",
      "458     102.80651771436715       1.0008768713375331\n",
      "459     102.80403736075002       1.000880570130089\n",
      "460     102.80155212595166       1.0008842758836978\n",
      "461     102.79906201324003       1.000887988591401\n",
      "462     102.79656702588898       1.0008917082462268\n",
      "463     102.7940671671784       1.0008954348411891\n",
      "464     102.7915624403942       1.0008991683692892\n",
      "465     102.78905284882826       1.0009029088235137\n",
      "466     102.78653839577845       1.0009066561968367\n",
      "467     102.78401908454865       1.0009104104822182\n",
      "468     102.78149491844857       1.0009141716726044\n",
      "469     102.77896590079408       1.0009179397609285\n",
      "470     102.77643203490686       1.00092171474011\n",
      "471     102.77389332411457       1.0009254966030547\n",
      "472     102.77134977175086       1.0009292853426552\n",
      "473     102.76880138115526       1.0009330809517905\n",
      "474     102.76624815567322       1.0009368834233257\n",
      "475     102.76369009865618       1.0009406927501128\n",
      "476     102.7611272134614       1.0009445089249904\n",
      "477     102.75855950345218       1.0009483319407837\n",
      "478     102.75598697199754       1.0009521617903039\n",
      "479     102.75340962247257       1.0009559984663494\n",
      "480     102.75082745825812       1.0009598419617052\n",
      "481     102.748240482741       1.000963692269142\n",
      "482     102.7456486993138       1.0009675493814183\n",
      "483     102.7430521113751       1.0009714132912781\n",
      "484     102.74045072232927       1.0009752839914523\n",
      "485     102.73784453558649       1.000979161474659\n",
      "486     102.73523355456291       1.0009830457336026\n",
      "487     102.73261778268039       1.0009869367609738\n",
      "488     102.72999722336664       1.0009908345494505\n",
      "489     102.72737188005532       1.0009947390916965\n",
      "490     102.72474175618572       1.000998650380363\n",
      "491     102.72210685520308       1.0010025684080877\n",
      "492     102.71946718055842       1.0010064931674947\n",
      "493     102.71682273570849       1.0010104246511953\n",
      "494     102.71417352411592       1.0010143628517871\n",
      "495     102.71151954924905       1.0010183077618546\n",
      "496     102.70886081458201       1.0010222593739688\n",
      "497     102.70619732359475       1.0010262176806877\n",
      "498     102.70352907977296       1.001030182674556\n",
      "499     102.70085608660798       1.001034154348105\n"
     ]
    }
   ],
   "source": [
    "for i, tmep in enumerate(temp_arra):\n",
    "    print i, '   ', tmep, '     ', s_t_arra[i]"
   ]
  },
  {
   "cell_type": "code",
   "execution_count": 16,
   "metadata": {
    "collapsed": false
   },
   "outputs": [
    {
     "data": {
      "image/png": "[encoded data removed]",
      "text/plain": [
       "<Figure size 432x288 with 1 Axes>"
      ]
     },
     "metadata": {},
     "output_type": "display_data"
    }
   ],
   "source": [
    "plt.plot(x,s_t_arra)\n",
    "plt.show()"
   ]
  },
  {
   "cell_type": "code",
   "execution_count": 61,
   "metadata": {
    "collapsed": false
   },
   "outputs": [
    {
     "name": "stdout",
     "output_type": "stream",
     "text": [
      "292.33103214765885\n",
      "9.673394154072172\n",
      "0.3554878858307549\n",
      "9.673394195850396\n"
     ]
    }
   ],
   "source": [
    "# 8.6173303×10−5\n",
    "#1 Hartree = 27.2116 eV\n",
    "K_ev_k= 8.6173303e-5\n",
    "K_ha_k= K_ev_k/27.2116\n"
   ]
  },
  {
   "cell_type": "code",
   "execution_count": 24,
   "metadata": {
    "collapsed": false
   },
   "outputs": [
    {
     "name": "stdout",
     "output_type": "stream",
     "text": [
      "[1.25729007e-07 6.28645036e-07 1.25729007e-06 6.28645036e-06\n",
      " 1.25729007e-05]\n"
     ]
    }
   ],
   "source": [
    "#Q value\n",
    "t0= 3.0e-3\n",
    "K_ev_k= 8.6173303e-5\n",
    "temp_ext= np.array([100.0,500.0,1000.0,5000.0,10000.0])\n",
    "print (t0**2.0)*(2.0*len(m)*K_ev_k*temp_ext)/(4.0*np.pi**2.0)"
   ]
  },
  {
   "cell_type": "code",
   "execution_count": null,
   "metadata": {
    "collapsed": true
   },
   "outputs": [],
   "source": [
    "asap3.LennardJones."
   ]
  }
 ],
 "metadata": {
  "kernelspec": {
   "display_name": "Python 2",
   "language": "python",
   "name": "python2"
  },
  "language_info": {
   "codemirror_mode": {
    "name": "ipython",
    "version": 2
   },
   "file_extension": ".py",
   "mimetype": "text/x-python",
   "name": "python",
   "nbconvert_exporter": "python",
   "pygments_lexer": "ipython2",
   "version": "2.7.13"
  }
 },
 "nbformat": 4,
 "nbformat_minor": 2
}
